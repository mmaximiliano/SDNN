{
 "cells": [
  {
   "cell_type": "code",
   "execution_count": 1,
   "id": "b9363d35",
   "metadata": {},
   "outputs": [],
   "source": [
    "import torch \n",
    "import numpy as np\n",
    "import pylab as plt\n",
    "from matplotlib import pyplot\n",
    "from matplotlib.pyplot import figure\n",
    "from os.path import dirname, realpath\n",
    "import pathlib\n",
    "import sv_utils\n",
    "from singleNeuron_omega import preSpikes, nextSpikes, STDPLIFDensePopulation, convergence_level, get_metrics, get_metrics_long_pat"
   ]
  },
  {
   "cell_type": "code",
   "execution_count": null,
   "id": "1ae1f66d",
   "metadata": {},
   "outputs": [],
   "source": []
  },
  {
   "cell_type": "code",
   "execution_count": null,
   "id": "541489d8",
   "metadata": {},
   "outputs": [],
   "source": []
  },
  {
   "cell_type": "code",
   "execution_count": null,
   "id": "75995a62",
   "metadata": {},
   "outputs": [],
   "source": []
  },
  {
   "cell_type": "code",
   "execution_count": null,
   "id": "6f518082",
   "metadata": {},
   "outputs": [],
   "source": []
  },
  {
   "cell_type": "code",
   "execution_count": 12,
   "id": "a15bb77e",
   "metadata": {},
   "outputs": [
    {
     "name": "stdout",
     "output_type": "stream",
     "text": [
      "th_fc: 3.0 th_sn: 3.0 w: w-0-3\n",
      "accuracy: 0.6202962369895918\n",
      "precision: 0.2924298776546955\n",
      "recall: 0.7011229222960762\n",
      "f1: 0.406610556541598\n",
      "fake_alarms: 0.39598636672859844\n",
      "missed_alarms: 0.2988770777039238\n",
      "  \n",
      "th_fc: 3.0 th_sn: 3.0 w: w-0-7\n",
      "accuracy: 0.6174539631705366\n",
      "precision: 0.2874979219825361\n",
      "recall: 0.6523929114108179\n",
      "f1: 0.3903589095982901\n",
      "fake_alarms: 0.3894858075890045\n",
      "missed_alarms: 0.34760708858918193\n",
      "  \n",
      "th_fc: 3.0 th_sn: 3.5 w: w-0-3\n",
      "accuracy: 0.6417133706965573\n",
      "precision: 0.31762437113799113\n",
      "recall: 0.6838500813889038\n",
      "f1: 0.4245863494954986\n",
      "fake_alarms: 0.366994348722769\n",
      "missed_alarms: 0.3161499186110962\n",
      "  \n",
      "th_fc: 3.0 th_sn: 3.5 w: w-0-7\n",
      "accuracy: 0.6270616493194556\n",
      "precision: 0.2973460337558676\n",
      "recall: 0.6481562934059517\n",
      "f1: 0.39783170523414024\n",
      "fake_alarms: 0.377188557375339\n",
      "missed_alarms: 0.3518437065940482\n",
      "  \n",
      "th_fc: 3.0 th_sn: 4.0 w: w-0-3\n",
      "accuracy: 0.6636509207365892\n",
      "precision: 0.32933154121740627\n",
      "recall: 0.6428948224392189\n",
      "f1: 0.42571003881000336\n",
      "fake_alarms: 0.33262138390222556\n",
      "missed_alarms: 0.35710517756078103\n",
      "  \n",
      "th_fc: 3.5 th_sn: 1.5 w: w-0-3\n",
      "accuracy: 0.6377902321857485\n",
      "precision: 0.30858282412717175\n",
      "recall: 0.6605579374633324\n",
      "f1: 0.41086501026056244\n",
      "fake_alarms: 0.3668741191144414\n",
      "missed_alarms: 0.3394420625366677\n",
      "  \n"
     ]
    }
   ],
   "source": [
    "#for exp in ['/15_0_0', '/15_5_0', '/0_0_15']:\n",
    "#    for sample in ['p_18', 'p_18_5', 'p_18_20']:\n",
    "#        for run in [0, 1, 2, 3, 4, 5, 6, 7, 8, 9]:\n",
    "#            for th in [3.0, 3.5, 4.0]:\n",
    "#                for inc in [0.25, 0.5, 1.0]:\n",
    "\n",
    "                    \n",
    "#---------- Load snn spikes ------------#\n",
    "\n",
    "for th_fc in ['th-1-0', 'th-1-5', 'th-2-0', 'th-2-5', 'th-3-0', 'th-3-5', 'th-4-0', 'th-4-5']:\n",
    "    for th_sn in ['th1-5', 'th2-0', 'th2-5', 'th3-0', 'th3-5', 'th4-0', 'th4-5', 'th5-0', 'th5-5']:\n",
    "        for weight in ['w-0-0', 'w-0-3', 'w-0-7']:\n",
    "            accuracy = precision = recall = f1 = fake_alarms = missed_alarms = 0.\n",
    "            for seed in ['0', '1', '2', '3', '4', '5', '6', '7', '8', '9']:\n",
    "                path = './sequences/massive_runs/1'\n",
    "                sn_out_seq = torch.load(path + '/sn_outputs/all_nums_5/testing/' + seed + '/neurons-16/' + weight + th_fc + '/sn_output__' + th_sn + '.pt')\n",
    "                pat_times = np.load(path + '/pat_sequences/all_nums_5/testing/' + seed + '/pat_test_all_nums_5.npy')\n",
    "                T = sn_out_seq.shape[0]\n",
    "\n",
    "                #----------- Sum Results -----------#\n",
    "                \n",
    "                accuracy_tmp, precision_tmp, recall_tmp, f1_tmp, fake_alarms_tmp, missed_alarms_tmp = get_metrics(T - 15, pat_times, sn_out_seq)\n",
    "                \n",
    "                accuracy += accuracy_tmp\n",
    "                precision += precision_tmp\n",
    "                recall += recall_tmp\n",
    "                f1 += f1_tmp\n",
    "                fake_alarms += fake_alarms_tmp\n",
    "                missed_alarms += missed_alarms_tmp\n",
    "                \n",
    "            if ( (fake_alarms/10) < 0.4 and (missed_alarms/10) < 0.4):\n",
    "                print('th_fc: ' + th_fc[3] + '.' + th_fc[5] + ' th_sn: ' + th_sn[2] + '.' + th_sn[4] + ' w: ' +  weight)\n",
    "                print(\"accuracy: \" + str(accuracy/10))\n",
    "                print(\"precision: \" + str(precision/10))\n",
    "                print(\"recall: \" + str(recall/10))\n",
    "                print(\"f1: \" + str(f1/10))\n",
    "                print(\"fake_alarms: \" + str(fake_alarms/10))\n",
    "                print(\"missed_alarms: \" + str(missed_alarms/10))\n",
    "                print('  ')\n",
    "\n",
    "#----------- Save Results -----------#\n",
    "#location = './cleanDSNN/results/old_results/massive_runs/18' + exp + '/' + sample + '/metrics/'+ str(run) + '/'\n",
    "#metrics = np.array([accuracy, precision, recall, f1, fake_alarms, missed_alarms], dtype=float)\n",
    "#pathlib.Path(location).mkdir(parents=True, exist_ok=True)\n",
    "#np.save(location + 'dif_sample_metrics_' + str_th + '.npy', metrics)"
   ]
  },
  {
   "cell_type": "code",
   "execution_count": null,
   "id": "77d93fcf",
   "metadata": {},
   "outputs": [],
   "source": []
  },
  {
   "cell_type": "code",
   "execution_count": 13,
   "id": "9569a7f7",
   "metadata": {},
   "outputs": [
    {
     "name": "stdout",
     "output_type": "stream",
     "text": [
      "1.5 & 0.198 & 0.56 & 0.451 & 0.44\n",
      "2.0 & 0.206 & 0.552 & 0.424 & 0.448\n",
      "2.5 & 0.21 & 0.55 & 0.417 & 0.45\n",
      "3.0 & 0.219 & 0.521 & 0.387 & 0.479\n",
      "3.5 & 0.226 & 0.511 & 0.377 & 0.489\n",
      "4.0 & 0.226 & 0.473 & 0.355 & 0.527\n",
      "4.5 & 0.229 & 0.472 & 0.351 & 0.528\n",
      "5.0 & 0.23 & 0.448 & 0.335 & 0.552\n",
      "5.5 & 0.228 & 0.438 & 0.33 & 0.562\n"
     ]
    }
   ],
   "source": [
    "for th_fc in ['th-3-0']:\n",
    "    for th_sn in ['th1-5', 'th2-0', 'th2-5', 'th3-0', 'th3-5', 'th4-0', 'th4-5', 'th5-0', 'th5-5']:\n",
    "        for weight in ['w-0-7']:\n",
    "            accuracy = precision = recall = f1 = fake_alarms = missed_alarms = 0.\n",
    "            for seed in ['0', '1', '2', '3', '4', '5', '6', '7', '8', '9']:\n",
    "                path = './sequences/massive_runs/1'\n",
    "                sn_out_seq = torch.load(path + '/sn_outputs/all_nums_20/testing/' + seed + '/neurons-16/' + weight + th_fc + '/sn_output__' + th_sn + '.pt')\n",
    "                pat_times = np.load(path + '/pat_sequences/all_nums_20/testing/' + seed + '/pat_test_all_nums_20.npy')\n",
    "                T = sn_out_seq.shape[0]\n",
    "\n",
    "                #----------- Sum Results -----------#\n",
    "                \n",
    "                accuracy_tmp, precision_tmp, recall_tmp, f1_tmp, fake_alarms_tmp, missed_alarms_tmp = get_metrics(T - 15, pat_times, sn_out_seq)\n",
    "                \n",
    "                accuracy += accuracy_tmp\n",
    "                precision += precision_tmp\n",
    "                recall += recall_tmp\n",
    "                f1 += f1_tmp\n",
    "                fake_alarms += fake_alarms_tmp\n",
    "                missed_alarms += missed_alarms_tmp\n",
    "                \n",
    "            print(th_sn[2] + '.' + th_sn[4] + ' & ' + str(round(precision/10, 3)) + ' & ' + str(round(recall/10, 3)) + ' & ' + str(round(fake_alarms/10, 3)) + ' & ' + str(round(missed_alarms/10, 3)))"
   ]
  },
  {
   "cell_type": "code",
   "execution_count": null,
   "id": "75d724d7",
   "metadata": {},
   "outputs": [],
   "source": []
  }
 ],
 "metadata": {
  "kernelspec": {
   "display_name": "Python 3",
   "language": "python",
   "name": "python3"
  },
  "language_info": {
   "codemirror_mode": {
    "name": "ipython",
    "version": 3
   },
   "file_extension": ".py",
   "mimetype": "text/x-python",
   "name": "python",
   "nbconvert_exporter": "python",
   "pygments_lexer": "ipython3",
   "version": "3.8.8"
  }
 },
 "nbformat": 4,
 "nbformat_minor": 5
}
