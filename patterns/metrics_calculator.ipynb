{
 "cells": [
  {
   "cell_type": "code",
   "execution_count": 19,
   "id": "b9363d35",
   "metadata": {},
   "outputs": [],
   "source": [
    "import torch \n",
    "import numpy as np\n",
    "import pylab as plt\n",
    "from matplotlib import pyplot\n",
    "from matplotlib.pyplot import figure\n",
    "from os.path import dirname, realpath\n",
    "import pathlib\n",
    "import sv_utils\n",
    "from singleNeuron_omega import preSpikes, nextSpikes, STDPLIFDensePopulation, convergence_level, get_metrics, get_metrics_long_pat"
   ]
  },
  {
   "cell_type": "code",
   "execution_count": null,
   "id": "1ae1f66d",
   "metadata": {},
   "outputs": [],
   "source": []
  },
  {
   "cell_type": "code",
   "execution_count": null,
   "id": "541489d8",
   "metadata": {},
   "outputs": [],
   "source": []
  },
  {
   "cell_type": "code",
   "execution_count": null,
   "id": "75995a62",
   "metadata": {},
   "outputs": [],
   "source": []
  },
  {
   "cell_type": "code",
   "execution_count": null,
   "id": "6f518082",
   "metadata": {},
   "outputs": [],
   "source": []
  },
  {
   "cell_type": "code",
   "execution_count": 24,
   "id": "a15bb77e",
   "metadata": {},
   "outputs": [
    {
     "name": "stdout",
     "output_type": "stream",
     "text": [
      "th_fc: 2.0 th_sn: 5.0 w: w-0-7\n",
      "accuracy: 0.6257005604483588\n",
      "precision: 0.2851410296861706\n",
      "recall: 0.6539338223178669\n",
      "f1: 0.387812372922635\n",
      "fake_alarms: 0.3805882496288632\n",
      "missed_alarms: 0.3460661776821331\n",
      "  \n",
      "th_fc: 2.0 th_sn: 5.5 w: w-0-7\n",
      "accuracy: 0.6358686949559648\n",
      "precision: 0.2903669802873067\n",
      "recall: 0.6311042532853605\n",
      "f1: 0.3850757364254081\n",
      "fake_alarms: 0.3638140181610673\n",
      "missed_alarms: 0.36889574671463954\n",
      "  \n",
      "th_fc: 3.5 th_sn: 1.5 w: w-0-7\n",
      "accuracy: 0.6367894315452362\n",
      "precision: 0.31199416295803417\n",
      "recall: 0.6289720588677717\n",
      "f1: 0.40188408324713887\n",
      "fake_alarms: 0.3618021363191651\n",
      "missed_alarms: 0.3710279411322281\n",
      "  \n"
     ]
    }
   ],
   "source": [
    "#for exp in ['/15_0_0', '/15_5_0', '/0_0_15']:\n",
    "#    for sample in ['p_18', 'p_18_5', 'p_18_20']:\n",
    "#        for run in [0, 1, 2, 3, 4, 5, 6, 7, 8, 9]:\n",
    "#            for th in [3.0, 3.5, 4.0]:\n",
    "#                for inc in [0.25, 0.5, 1.0]:\n",
    "\n",
    "                    \n",
    "#---------- Load snn spikes ------------#\n",
    "\n",
    "for th_fc in ['th-1-0', 'th-1-5', 'th-2-0', 'th-2-5', 'th-3-0', 'th-3-5', 'th-4-0', 'th-4-5']:\n",
    "    for th_sn in ['th1-5', 'th2-0', 'th2-5', 'th3-0', 'th3-5', 'th4-0', 'th4-5', 'th5-0', 'th5-5']:\n",
    "        for weight in ['w-0-0', 'w-0-3', 'w-0-7']:\n",
    "            accuracy = precision = recall = f1 = fake_alarms = missed_alarms = 0.\n",
    "            for seed in ['0', '1', '2', '3', '4', '5', '6', '7', '8', '9']:\n",
    "                path = './sequences/massive_runs/1'\n",
    "                sn_out_seq = torch.load(path + '/sn_outputs/all_nums_5/testing/' + seed + '/neurons-8/' + weight + th_fc + '/sn_output__' + th_sn + '.pt')\n",
    "                pat_times = np.load(path + '/pat_sequences/all_nums_5/testing/' + seed + '/pat_test_all_nums_5.npy')\n",
    "                T = sn_out_seq.shape[0]\n",
    "\n",
    "                #----------- Sum Results -----------#\n",
    "                \n",
    "                accuracy_tmp, precision_tmp, recall_tmp, f1_tmp, fake_alarms_tmp, missed_alarms_tmp = get_metrics(T - 15, pat_times, sn_out_seq)\n",
    "                \n",
    "                accuracy += accuracy_tmp\n",
    "                precision += precision_tmp\n",
    "                recall += recall_tmp\n",
    "                f1 += f1_tmp\n",
    "                fake_alarms += fake_alarms_tmp\n",
    "                missed_alarms += missed_alarms_tmp\n",
    "                \n",
    "            if ( (fake_alarms/10) < 0.4 and (missed_alarms/10) < 0.4):\n",
    "                print('th_fc: ' + th_fc[3] + '.' + th_fc[5] + ' th_sn: ' + th_sn[2] + '.' + th_sn[4] + ' w: ' +  weight)\n",
    "                print(\"accuracy: \" + str(accuracy/10))\n",
    "                print(\"precision: \" + str(precision/10))\n",
    "                print(\"recall: \" + str(recall/10))\n",
    "                print(\"f1: \" + str(f1/10))\n",
    "                print(\"fake_alarms: \" + str(fake_alarms/10))\n",
    "                print(\"missed_alarms: \" + str(missed_alarms/10))\n",
    "                print('  ')\n",
    "\n",
    "#----------- Save Results -----------#\n",
    "#location = './cleanDSNN/results/old_results/massive_runs/18' + exp + '/' + sample + '/metrics/'+ str(run) + '/'\n",
    "#metrics = np.array([accuracy, precision, recall, f1, fake_alarms, missed_alarms], dtype=float)\n",
    "#pathlib.Path(location).mkdir(parents=True, exist_ok=True)\n",
    "#np.save(location + 'dif_sample_metrics_' + str_th + '.npy', metrics)"
   ]
  },
  {
   "cell_type": "code",
   "execution_count": null,
   "id": "77d93fcf",
   "metadata": {},
   "outputs": [],
   "source": []
  },
  {
   "cell_type": "code",
   "execution_count": null,
   "id": "9569a7f7",
   "metadata": {},
   "outputs": [],
   "source": []
  }
 ],
 "metadata": {
  "kernelspec": {
   "display_name": "Python 3",
   "language": "python",
   "name": "python3"
  },
  "language_info": {
   "codemirror_mode": {
    "name": "ipython",
    "version": 3
   },
   "file_extension": ".py",
   "mimetype": "text/x-python",
   "name": "python",
   "nbconvert_exporter": "python",
   "pygments_lexer": "ipython3",
   "version": "3.8.8"
  }
 },
 "nbformat": 4,
 "nbformat_minor": 5
}
