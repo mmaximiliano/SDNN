{
 "cells": [
  {
   "cell_type": "code",
   "execution_count": 33,
   "id": "10106ace",
   "metadata": {},
   "outputs": [],
   "source": [
    "import sv_utils\n",
    "import torch \n",
    "import numpy as np\n",
    "import pylab as plt\n",
    "from os.path import dirname, realpath"
   ]
  },
  {
   "cell_type": "markdown",
   "id": "7c42b88f",
   "metadata": {},
   "source": [
    "## Sequence Visualizer"
   ]
  },
  {
   "cell_type": "markdown",
   "id": "38ba3366",
   "metadata": {},
   "source": [
    "El proposito de esta notebook es el poder graficar tanto la entrada como salida de la red DSNN que reconoce patrones en una secuencia de numeros aleatorios."
   ]
  },
  {
   "cell_type": "code",
   "execution_count": 34,
   "id": "31af7ce9",
   "metadata": {},
   "outputs": [
    {
     "name": "stdout",
     "output_type": "stream",
     "text": [
      "(34, 34, 3250)\n",
      "(3250, 1156)\n"
     ]
    }
   ],
   "source": [
    "Sin_tmp = np.load('./sequences/seq_0.npy')\n",
    "print(Sin_tmp.shape)\n",
    "Sin = np.reshape(Sin_tmp, (Sin_tmp.shape[0]*Sin_tmp.shape[1], Sin_tmp.shape[2]))\n",
    "Sin = np.transpose(Sin)\n",
    "print(Sin.shape)"
   ]
  },
  {
   "cell_type": "markdown",
   "id": "99d08906",
   "metadata": {},
   "source": [
    "### Tren de spikes de entrada"
   ]
  },
  {
   "cell_type": "code",
   "execution_count": 35,
   "id": "38a8254e",
   "metadata": {},
   "outputs": [
    {
     "data": {
      "image/png": "[encoded data removed]",
      "text/plain": [
       "<Figure size 432x288 with 1 Axes>"
      ]
     },
     "metadata": {
      "needs_background": "light"
     },
     "output_type": "display_data"
    },
    {
     "data": {
      "text/plain": [
       "530426"
      ]
     },
     "execution_count": 35,
     "metadata": {},
     "output_type": "execute_result"
    }
   ],
   "source": [
    "sv_utils.plotLIF(U=None, S=Sin)\n",
    "np.count_nonzero(Sin)"
   ]
  },
  {
   "cell_type": "code",
   "execution_count": 36,
   "id": "1bcf44d7",
   "metadata": {},
   "outputs": [
    {
     "data": {
      "image/png": "[encoded data removed]",
      "text/plain": [
       "<Figure size 432x288 with 1 Axes>"
      ]
     },
     "metadata": {
      "needs_background": "light"
     },
     "output_type": "display_data"
    },
    {
     "name": "stdout",
     "output_type": "stream",
     "text": [
      "torch.Size([3250, 20])\n"
     ]
    },
    {
     "data": {
      "text/plain": [
       "1"
      ]
     },
     "execution_count": 36,
     "metadata": {},
     "output_type": "execute_result"
    }
   ],
   "source": [
    "Sin_out = torch.load('../SDNN-Maxi/results/Sin-out.pt')\n",
    "sv_utils.plotLIF(U=None, S=Sin_out.data.numpy())\n",
    "print(Sin_out.shape)\n",
    "np.count_nonzero(Sin_out)"
   ]
  },
  {
   "cell_type": "code",
   "execution_count": 37,
   "id": "9fd2374e",
   "metadata": {},
   "outputs": [
    {
     "name": "stdout",
     "output_type": "stream",
     "text": [
      "(3250, 1)\n"
     ]
    }
   ],
   "source": [
    "Sprobe = torch.load('../SDNN-Maxi/results/Sprobe.pt')\n",
    "Uprobe = torch.load('../SDNN-Maxi/results/Uprobe.pt')\n",
    "pat_times = np.load('./sequences/pat_i_0.npy')\n",
    "print(Sprobe.shape)"
   ]
  },
  {
   "cell_type": "markdown",
   "id": "d8d2b791",
   "metadata": {},
   "source": [
    "### Potencial de membrana de salida"
   ]
  },
  {
   "cell_type": "code",
   "execution_count": 38,
   "id": "0cd5c72a",
   "metadata": {},
   "outputs": [
    {
     "data": {
      "image/png": "[encoded data removed]",
      "text/plain": [
       "<Figure size 432x288 with 2 Axes>"
      ]
     },
     "metadata": {
      "needs_background": "light"
     },
     "output_type": "display_data"
    },
    {
     "data": {
      "text/plain": [
       "(<AxesSubplot:ylabel='Neuron '>,\n",
       " <AxesSubplot:xlabel='time [ms]', ylabel='u [au]'>)"
      ]
     },
     "execution_count": 38,
     "metadata": {},
     "output_type": "execute_result"
    }
   ],
   "source": [
    "sv_utils.plotLIF(U=Uprobe, S=Sprobe, pat_times=pat_times, th=25.)"
   ]
  },
  {
   "cell_type": "code",
   "execution_count": null,
   "id": "098ef9f9",
   "metadata": {},
   "outputs": [],
   "source": []
  },
  {
   "cell_type": "code",
   "execution_count": null,
   "id": "8ee3be96",
   "metadata": {},
   "outputs": [],
   "source": []
  },
  {
   "cell_type": "code",
   "execution_count": null,
   "id": "20cdca17",
   "metadata": {},
   "outputs": [],
   "source": []
  },
  {
   "cell_type": "code",
   "execution_count": null,
   "id": "4d966070",
   "metadata": {},
   "outputs": [],
   "source": []
  },
  {
   "cell_type": "code",
   "execution_count": null,
   "id": "f1c23bb7",
   "metadata": {},
   "outputs": [],
   "source": []
  }
 ],
 "metadata": {
  "kernelspec": {
   "display_name": "Python 3",
   "language": "python",
   "name": "python3"
  },
  "language_info": {
   "codemirror_mode": {
    "name": "ipython",
    "version": 3
   },
   "file_extension": ".py",
   "mimetype": "text/x-python",
   "name": "python",
   "nbconvert_exporter": "python",
   "pygments_lexer": "ipython3",
   "version": "3.8.8"
  }
 },
 "nbformat": 4,
 "nbformat_minor": 5
}
