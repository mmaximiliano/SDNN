{
 "cells": [
  {
   "cell_type": "code",
   "execution_count": 1,
   "id": "cb861850",
   "metadata": {},
   "outputs": [],
   "source": [
    "import torch \n",
    "import numpy as np\n",
    "import pylab as plt\n",
    "from matplotlib import pyplot\n",
    "from matplotlib.pyplot import figure\n",
    "from os.path import dirname, realpath"
   ]
  },
  {
   "cell_type": "markdown",
   "id": "0b5d25e0",
   "metadata": {},
   "source": [
    "# Resultados de las corridas Masivas\n",
    "Tanto para el numero 1, como para el numero 8, se corrieron para cada variante sobre 10 secuencias distintas"
   ]
  },
  {
   "cell_type": "code",
   "execution_count": 30,
   "id": "27ea6c68",
   "metadata": {},
   "outputs": [
    {
     "name": "stdout",
     "output_type": "stream",
     "text": [
      "---------1_5---------\n",
      "accuracy: 0.7108887109687749\n",
      "precision: 0.39300919044211724\n",
      "recall: 1.0\n",
      "f1: 0.5558974832032424\n",
      "fake_alarms: 0.34667801272732557\n",
      "missed_alarms: 0.0\n",
      "---------2_0---------\n",
      "accuracy: 0.8251401120896718\n",
      "precision: 0.5689824913548196\n",
      "recall: 1.0\n",
      "f1: 0.7003820487457995\n",
      "fake_alarms: 0.20987187224965514\n",
      "missed_alarms: 0.0\n",
      "---------2_5---------\n",
      "accuracy: 0.9111689351481184\n",
      "precision: 0.7726277716048434\n",
      "recall: 1.0\n",
      "f1: 0.8431530067715196\n",
      "fake_alarms: 0.1067448768222022\n",
      "missed_alarms: 0.0\n",
      "---------3_0---------\n",
      "accuracy: 0.9500800640512409\n",
      "precision: 0.8430117578359997\n",
      "recall: 0.9910891089108912\n",
      "f1: 0.8946560118285121\n",
      "fake_alarms: 0.05822657382299614\n",
      "missed_alarms: 0.00891089108910891\n",
      "---------3_5---------\n",
      "accuracy: 0.9376701361088872\n",
      "precision: 0.8013595173701165\n",
      "recall: 0.9\n",
      "f1: 0.8395054772897985\n",
      "fake_alarms: 0.05528848371438309\n",
      "missed_alarms: 0.1\n",
      "---------4_0---------\n",
      "accuracy: 0.7779423538831065\n",
      "precision: 0.3678586975770438\n",
      "recall: 0.39281149243284796\n",
      "f1: 0.37854185966815385\n",
      "fake_alarms: 0.14587480721348894\n",
      "missed_alarms: 0.6071885075671519\n",
      "##### Next th is missing result 5 #####\n",
      "---------2_5-3_0---------\n",
      "accuracy: 0.9731785428342674\n",
      "precision: 0.8955476002330616\n",
      "recall: 1.0\n",
      "f1: 0.9372491228756377\n",
      "fake_alarms: 0.03221451339015449\n",
      "missed_alarms: 0.0\n",
      "##### Next th is missing result 5 #####\n",
      "---------2_5-3_5---------\n",
      "accuracy: 0.9790943866204075\n",
      "precision: 0.9196713930331417\n",
      "recall: 1.0\n",
      "f1: 0.9516558568238425\n",
      "fake_alarms: 0.02510970960905013\n",
      "missed_alarms: 0.0\n"
     ]
    }
   ],
   "source": [
    "for th in ['1_5', '2_0', '2_5', '3_0', '3_5', '4_0', '2_5-3_0', '2_5-3_5']:\n",
    "    result = 0.\n",
    "    accuracy = 0.\n",
    "    precision = 0.\n",
    "    recall = 0.\n",
    "    f1 = 0.\n",
    "    fake_alarms = 0\n",
    "    missed_alarms = 0\n",
    "    num_results = 0\n",
    "    \n",
    "    for i in range(0,10):\n",
    "        location = './massive_runs/1/all_nums/metrics/' + str(i) + '/test_metrics_' + str(th) + '.npy'\n",
    "        try:\n",
    "            metrics = np.load(location)\n",
    "            accuracy += metrics[0]\n",
    "            precision += metrics[1]\n",
    "            recall += metrics[2]\n",
    "            f1 += metrics[3]\n",
    "            fake_alarms += metrics[4]\n",
    "            missed_alarms += metrics[5]\n",
    "            num_results += 1\n",
    "        except OSError as e:\n",
    "            print('##### Next th is missing result ' + str(i) + ' #####')\n",
    "        \n",
    "        \n",
    "    # Print Results\n",
    "    print(\"---------\" + str(th) + \"---------\")\n",
    "    print(\"accuracy: \" + str(accuracy/num_results))\n",
    "    print(\"precision: \" + str(precision/num_results))\n",
    "    print(\"recall: \" + str(recall/num_results))\n",
    "    print(\"f1: \" + str(f1/num_results))\n",
    "    print(\"fake_alarms: \" + str(fake_alarms/num_results))\n",
    "    print(\"missed_alarms: \" + str(missed_alarms/num_results))"
   ]
  },
  {
   "cell_type": "code",
   "execution_count": null,
   "id": "da2fa975",
   "metadata": {},
   "outputs": [],
   "source": []
  }
 ],
 "metadata": {
  "kernelspec": {
   "display_name": "Python 3",
   "language": "python",
   "name": "python3"
  },
  "language_info": {
   "codemirror_mode": {
    "name": "ipython",
    "version": 3
   },
   "file_extension": ".py",
   "mimetype": "text/x-python",
   "name": "python",
   "nbconvert_exporter": "python",
   "pygments_lexer": "ipython3",
   "version": "3.8.8"
  }
 },
 "nbformat": 4,
 "nbformat_minor": 5
}
