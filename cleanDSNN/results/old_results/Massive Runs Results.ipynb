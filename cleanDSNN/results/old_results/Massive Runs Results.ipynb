{
 "cells": [
  {
   "cell_type": "code",
   "execution_count": 1,
   "id": "1087903f",
   "metadata": {},
   "outputs": [],
   "source": [
    "import torch \n",
    "import numpy as np\n",
    "import pylab as plt\n",
    "from matplotlib import pyplot\n",
    "from matplotlib.pyplot import figure\n",
    "from os.path import dirname, realpath"
   ]
  },
  {
   "cell_type": "markdown",
   "id": "eed21c41",
   "metadata": {},
   "source": [
    "# Resultados de las corridas Masivas\n",
    "Tanto para el numero 1, como para el numero 8, se corrieron para cada variante sobre 10 secuencias distintas"
   ]
  },
  {
   "cell_type": "markdown",
   "id": "8afda834",
   "metadata": {},
   "source": [
    "## Number 1"
   ]
  },
  {
   "cell_type": "code",
   "execution_count": null,
   "id": "980e9120",
   "metadata": {
    "scrolled": false
   },
   "outputs": [],
   "source": [
    "for exp in ['/test_metrics_', '/dif_sample_metrics_']:\n",
    "    for th in ['1_5', '2_0', '2_5', '3_0', '3_5', '4_0', '2_5-3_0', '2_5-3_5']:\n",
    "        result = 0.\n",
    "        accuracy = 0.\n",
    "        precision = 0.\n",
    "        recall = 0.\n",
    "        f1 = 0.\n",
    "        fake_alarms = 0\n",
    "        missed_alarms = 0\n",
    "        num_results = 0\n",
    "    \n",
    "        for i in range(0,10):\n",
    "            location = './massive_runs/1/all_nums_20/metrics/' + str(i) + str(exp) + str(th) + '.npy'\n",
    "            try:\n",
    "                metrics = np.load(location)\n",
    "                accuracy += metrics[0]\n",
    "                precision += metrics[1]\n",
    "                recall += metrics[2]\n",
    "                f1 += metrics[3]\n",
    "                fake_alarms += metrics[4]\n",
    "                missed_alarms += metrics[5]\n",
    "                num_results += 1\n",
    "            except OSError as e:\n",
    "                print('##### Next th is missing result ' + str(i) + ' #####')\n",
    "        \n",
    "        \n",
    "        # Print Results\n",
    "        print(\"---------\" + str(exp) + str(th) + \"---------\")\n",
    "        print(\"accuracy: \" + str(accuracy/num_results))\n",
    "        print(\"precision: \" + str(precision/num_results))\n",
    "        print(\"recall: \" + str(recall/num_results))\n",
    "        print(\"f1: \" + str(f1/num_results))\n",
    "        print(\"fake_alarms: \" + str(fake_alarms/num_results))\n",
    "        print(\"missed_alarms: \" + str(missed_alarms/num_results))"
   ]
  },
  {
   "cell_type": "markdown",
   "id": "e58eae32",
   "metadata": {},
   "source": [
    "## More Filters Number 1"
   ]
  },
  {
   "cell_type": "code",
   "execution_count": null,
   "id": "f9330ea1",
   "metadata": {
    "scrolled": false
   },
   "outputs": [],
   "source": [
    "for exp in ['/test_metrics_', '/dif_sample_metrics_']:\n",
    "    for th in ['1_5']:\n",
    "        result = 0.\n",
    "        accuracy = 0.\n",
    "        precision = 0.\n",
    "        recall = 0.\n",
    "        f1 = 0.\n",
    "        fake_alarms = 0\n",
    "        missed_alarms = 0\n",
    "        num_results = 0\n",
    "    \n",
    "        for i in range(0,1):\n",
    "            location = './massive_runs/1/moreFilters/all_nums/metrics/' + str(i) + str(exp) + str(th) + '.npy'\n",
    "            try:\n",
    "                metrics = np.load(location)\n",
    "                accuracy += metrics[0]\n",
    "                precision += metrics[1]\n",
    "                recall += metrics[2]\n",
    "                f1 += metrics[3]\n",
    "                fake_alarms += metrics[4]\n",
    "                missed_alarms += metrics[5]\n",
    "                num_results += 1\n",
    "            except OSError as e:\n",
    "                print('##### Next th is missing result ' + str(i) + ' #####')\n",
    "        \n",
    "        \n",
    "        # Print Results\n",
    "        print(\"---------\" + str(exp) + str(th) + \"---------\")\n",
    "        print(\"accuracy: \" + str(accuracy/num_results))\n",
    "        print(\"precision: \" + str(precision/num_results))\n",
    "        print(\"recall: \" + str(recall/num_results))\n",
    "        print(\"f1: \" + str(f1/num_results))\n",
    "        print(\"fake_alarms: \" + str(fake_alarms/num_results))\n",
    "        print(\"missed_alarms: \" + str(missed_alarms/num_results))"
   ]
  },
  {
   "cell_type": "markdown",
   "id": "e8cb6c76",
   "metadata": {},
   "source": [
    "## Number 8"
   ]
  },
  {
   "cell_type": "code",
   "execution_count": 17,
   "id": "9397730d",
   "metadata": {},
   "outputs": [
    {
     "name": "stdout",
     "output_type": "stream",
     "text": [
      "test\n",
      "negativo\n"
     ]
    }
   ],
   "source": [
    "print('test')\n",
    "a = np.array([1,-2,3,4])\n",
    "\n",
    "if np.any(a<0):\n",
    "    print('negativo')\n",
    "else:\n",
    "    print('todo ok')"
   ]
  },
  {
   "cell_type": "code",
   "execution_count": 2,
   "id": "8769f029",
   "metadata": {
    "scrolled": false
   },
   "outputs": [
    {
     "name": "stdout",
     "output_type": "stream",
     "text": [
      "##### Next th is missing result 1 #####\n",
      "##### Next th is missing result 2 #####\n",
      "##### Next th is missing result 3 #####\n",
      "##### Next th is missing result 4 #####\n",
      "##### Next th is missing result 5 #####\n",
      "##### Next th is missing result 6 #####\n",
      "##### Next th is missing result 7 #####\n",
      "##### Next th is missing result 8 #####\n",
      "##### Next th is missing result 9 #####\n",
      "---------/test_metrics_3_5---------\n",
      "accuracy: 0.775\n",
      "precision: 0.4078\n",
      "recall: 1.0\n",
      "f1: 0.5793\n",
      "fake_alarms: 0.2662\n",
      "missed_alarms: 0.0\n",
      "##### Next th is missing result 1 #####\n",
      "##### Next th is missing result 2 #####\n",
      "##### Next th is missing result 3 #####\n",
      "##### Next th is missing result 4 #####\n",
      "##### Next th is missing result 5 #####\n",
      "##### Next th is missing result 6 #####\n",
      "##### Next th is missing result 7 #####\n",
      "##### Next th is missing result 8 #####\n",
      "##### Next th is missing result 9 #####\n",
      "---------/test_metrics_4_0---------\n",
      "accuracy: 0.998\n",
      "precision: 0.9897\n",
      "recall: 0.9974\n",
      "f1: 0.9936\n",
      "fake_alarms: 0.0019\n",
      "missed_alarms: 0.0026\n",
      "##### Next th is missing result 1 #####\n",
      "##### Next th is missing result 2 #####\n",
      "##### Next th is missing result 3 #####\n",
      "##### Next th is missing result 4 #####\n",
      "##### Next th is missing result 5 #####\n",
      "##### Next th is missing result 6 #####\n",
      "##### Next th is missing result 7 #####\n",
      "##### Next th is missing result 8 #####\n",
      "##### Next th is missing result 9 #####\n",
      "---------/test_metrics_4_5---------\n",
      "accuracy: 0.9524\n",
      "precision: 0.9558\n",
      "recall: 0.7261\n",
      "f1: 0.8253\n",
      "fake_alarms: 0.0062\n",
      "missed_alarms: 0.2739\n",
      "##### Next th is missing result 1 #####\n",
      "##### Next th is missing result 2 #####\n",
      "##### Next th is missing result 3 #####\n",
      "##### Next th is missing result 4 #####\n",
      "##### Next th is missing result 5 #####\n",
      "##### Next th is missing result 6 #####\n",
      "##### Next th is missing result 7 #####\n",
      "##### Next th is missing result 8 #####\n",
      "##### Next th is missing result 9 #####\n",
      "---------/dif_sample_metrics_3_5---------\n",
      "accuracy: 0.674\n",
      "precision: 0.2451\n",
      "recall: 0.5166\n",
      "f1: 0.3325\n",
      "fake_alarms: 0.2966\n",
      "missed_alarms: 0.4834\n",
      "##### Next th is missing result 1 #####\n",
      "##### Next th is missing result 2 #####\n",
      "##### Next th is missing result 3 #####\n",
      "##### Next th is missing result 4 #####\n",
      "##### Next th is missing result 5 #####\n",
      "##### Next th is missing result 6 #####\n",
      "##### Next th is missing result 7 #####\n",
      "##### Next th is missing result 8 #####\n",
      "##### Next th is missing result 9 #####\n",
      "---------/dif_sample_metrics_4_0---------\n",
      "accuracy: 0.8388\n",
      "precision: 0.0833\n",
      "recall: 0.0026\n",
      "f1: 0.005\n",
      "fake_alarms: 0.0052\n",
      "missed_alarms: 0.9974\n",
      "##### Next th is missing result 1 #####\n",
      "##### Next th is missing result 2 #####\n",
      "##### Next th is missing result 3 #####\n",
      "##### Next th is missing result 4 #####\n",
      "##### Next th is missing result 5 #####\n",
      "##### Next th is missing result 6 #####\n",
      "##### Next th is missing result 7 #####\n",
      "##### Next th is missing result 8 #####\n",
      "##### Next th is missing result 9 #####\n",
      "---------/dif_sample_metrics_4_5---------\n",
      "accuracy: 0.836\n",
      "precision: 0.1852\n",
      "recall: 0.0128\n",
      "f1: 0.0239\n",
      "fake_alarms: 0.0105\n",
      "missed_alarms: 0.9872\n"
     ]
    }
   ],
   "source": [
    "for exp in ['/test_metrics_', '/dif_sample_metrics_']:\n",
    "    for th in ['3_5', '4_0', '4_5', '5_0', '5_5', '6_0']:\n",
    "        result = 0.\n",
    "        accuracy = 0.\n",
    "        precision = 0.\n",
    "        recall = 0.\n",
    "        f1 = 0.\n",
    "        fake_alarms = 0\n",
    "        missed_alarms = 0\n",
    "        num_results = 0\n",
    "    \n",
    "        for i in range(0,10):\n",
    "            location = './massive_runs/18/15_0_0/p_18/metrics/' + str(i) + str(exp) + str(th) + '.npy'\n",
    "            try:\n",
    "                metrics = np.load(location)\n",
    "                if np.any(metrics<0):\n",
    "                    print('****** NEGATIVO ******  -> ' + str(th) + ' seed: ' + str(i))\n",
    "                accuracy += metrics[0]\n",
    "                precision += metrics[1]\n",
    "                recall += metrics[2]\n",
    "                f1 += metrics[3]\n",
    "                fake_alarms += metrics[4]\n",
    "                missed_alarms += metrics[5]\n",
    "                num_results += 1\n",
    "            except OSError as e:\n",
    "                print('##### Next th is missing result ' + str(i) + ' #####')\n",
    "        \n",
    "        \n",
    "        # Print Results\n",
    "        print(\"---------\" + str(exp) + str(th) + \"---------\")\n",
    "        print(\"accuracy: \" + str(round(accuracy/num_results,4)))\n",
    "        print(\"precision: \" + str(round(precision/num_results,4)))\n",
    "        print(\"recall: \" + str(round(recall/num_results,4)))\n",
    "        print(\"f1: \" + str(round(f1/num_results,4)))\n",
    "        print(\"fake_alarms: \" + str(round(fake_alarms/num_results,4)))\n",
    "        print(\"missed_alarms: \" + str(round(missed_alarms/num_results,4)))"
   ]
  },
  {
   "cell_type": "code",
   "execution_count": null,
   "id": "e7ab5de6",
   "metadata": {},
   "outputs": [],
   "source": []
  }
 ],
 "metadata": {
  "kernelspec": {
   "display_name": "Python 3",
   "language": "python",
   "name": "python3"
  },
  "language_info": {
   "codemirror_mode": {
    "name": "ipython",
    "version": 3
   },
   "file_extension": ".py",
   "mimetype": "text/x-python",
   "name": "python",
   "nbconvert_exporter": "python",
   "pygments_lexer": "ipython3",
   "version": "3.8.8"
  }
 },
 "nbformat": 4,
 "nbformat_minor": 5
}
