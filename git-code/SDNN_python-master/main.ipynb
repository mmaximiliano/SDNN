{
  "nbformat": 4,
  "nbformat_minor": 0,
  "metadata": {
    "colab": {
      "name": "Untitled0.ipynb",
      "provenance": [],
      "authorship_tag": "ABX9TyO7WyFb8Iml92yGUL/5vsBB",
      "include_colab_link": true
    },
    "kernelspec": {
      "name": "python3",
      "display_name": "Python 3"
    },
    "language_info": {
      "name": "python"
    }
  },
  "cells": [
    {
      "cell_type": "markdown",
      "metadata": {
        "id": "view-in-github",
        "colab_type": "text"
      },
      "source": [
        "<a href=\"https://colab.research.google.com/github/mmaximiliano/Tesis/blob/master/main.ipynb\" target=\"_parent\"><img src=\"https://colab.research.google.com/assets/colab-badge.svg\" alt=\"Open In Colab\"/></a>"
      ]
    },
    {
      "cell_type": "code",
      "metadata": {
        "colab": {
          "base_uri": "https://localhost:8080/",
          "height": 368
        },
        "id": "1fwGOJCogFMO",
        "outputId": "86ad4962-dae5-4118-cfd9-d683c93f560d"
      },
      "source": [
        "\"\"\"\n",
        "__author__ = Nicolas Perez-Nieves\n",
        "__email__ = nicolas.perez14@imperial.ac.uk\n",
        "\n",
        "SDNN Implementation based on Kheradpisheh, S.R., et al. 'STDP-based spiking deep neural networks \n",
        "for object recognition'. arXiv:1611.01421v1 (Nov, 2016)\n",
        "\"\"\"\n",
        "\n",
        "from SDNN_cuda import SDNN\n",
        "from Classifier import Classifier\n",
        "import numpy as np\n",
        "from os.path import dirname, realpath\n",
        "from math import floor\n",
        "\n",
        "import time\n",
        "\n",
        "\n",
        "def main():\n",
        "\n",
        "    # Flags\n",
        "    learn_SDNN = False  # This flag toggles between Learning STDP and classify features\n",
        "                        # or just classify by loading pretrained weights for the face/motor dataset\n",
        "    if learn_SDNN:\n",
        "        set_weights = False  # Loads the weights from a path (path_set_weigths) and prevents any SDNN learning\n",
        "        save_weights = True  # Saves the weights in a path (path_save_weigths)\n",
        "        save_features = True  # Saves the features and labels in the specified path (path_features)\n",
        "    else:\n",
        "        set_weights = True  # Loads the weights from a path (path_set_weigths) and prevents any SDNN learning\n",
        "        save_weights = False  # Saves the weights in a path (path_save_weigths)\n",
        "        save_features = False  # Saves the features and labels in the specified path (path_features)\n",
        "\n",
        "    # ------------------------------- Learn, Train and Test paths-------------------------------#\n",
        "    # Image sets directories\n",
        "    path = dirname(dirname(realpath(__file__)))\n",
        "    spike_times_learn = [path + '/datasets/LearningSet/Face/', path + '/datasets/LearningSet/Motor/']\n",
        "    spike_times_train = [path + '/datasets/TrainingSet/Face/', path + '/datasets/TrainingSet/Motor/']\n",
        "    spike_times_test = [path + '/datasets/TestingSet/Face/', path + '/datasets/TestingSet/Motor/']\n",
        "\n",
        "\n",
        "    # Results directories\n",
        "    path_set_weigths = 'results/'\n",
        "    path_save_weigths = 'results/'\n",
        "    path_features = 'results/'\n",
        "\n",
        "    # ------------------------------- SDNN -------------------------------#\n",
        "    # SDNN_cuda parameters\n",
        "    DoG_params = {'img_size': (250, 160), 'DoG_size': 7, 'std1': 1., 'std2': 2.}  # img_size is (col size, row size)\n",
        "    total_time = 15\n",
        "    network_params = [{'Type': 'input', 'num_filters': 1, 'pad': (0, 0), 'H_layer': DoG_params['img_size'][1],\n",
        "                       'W_layer': DoG_params['img_size'][0]},\n",
        "                      {'Type': 'conv', 'num_filters': 4, 'filter_size': 5, 'th': 10.},\n",
        "                      {'Type': 'pool', 'num_filters': 4, 'filter_size': 7, 'th': 0., 'stride': 6},\n",
        "                      {'Type': 'conv', 'num_filters': 20, 'filter_size': 17, 'th': 60.},\n",
        "                      {'Type': 'pool', 'num_filters': 20, 'filter_size': 5, 'th': 0., 'stride': 5},\n",
        "                      {'Type': 'conv', 'num_filters': 20, 'filter_size': 5, 'th': 2.}]\n",
        "\n",
        "    weight_params = {'mean': 0.8, 'std': 0.01}\n",
        "\n",
        "    max_learn_iter = [0, 3000, 0, 5000, 0, 6000, 0]\n",
        "    stdp_params = {'max_learn_iter': max_learn_iter,\n",
        "                   'stdp_per_layer': [0, 10, 0, 4, 0, 2],\n",
        "                   'max_iter': sum(max_learn_iter),\n",
        "                   'a_minus': np.array([0, .003, 0, .0003, 0, .0003], dtype=np.float32),\n",
        "                   'a_plus': np.array([0, .004, 0, .0004, 0, .0004], dtype=np.float32),\n",
        "                   'offset_STDP': [0, floor(network_params[1]['filter_size']),\n",
        "                                   0,\n",
        "                                   floor(network_params[3]['filter_size']/8),\n",
        "                                   0,\n",
        "                                   floor(network_params[5]['filter_size'])]}\n",
        "\n",
        "    # Create network\n",
        "    first_net = SDNN(network_params, weight_params, stdp_params, total_time,\n",
        "                     DoG_params=DoG_params, spike_times_learn=spike_times_learn,\n",
        "                     spike_times_train=spike_times_train, spike_times_test=spike_times_test, device='GPU')\n",
        "\n",
        "    # Set the weights or learn STDP\n",
        "    if set_weights:\n",
        "        weight_path_list = [path_set_weigths + 'weight_' + str(i) + '.npy' for i in range(len(network_params) - 1)]\n",
        "        first_net.set_weights(weight_path_list)\n",
        "    else:\n",
        "        first_net.train_SDNN()\n",
        "\n",
        "    # Save the weights\n",
        "    if save_weights:\n",
        "        weights = first_net.get_weights()\n",
        "        for i in range(len(weights)):\n",
        "            np.save(path_save_weigths + 'weight_'+str(i), weights[i])\n",
        "\n",
        "    # Get features\n",
        "    X_train, y_train = first_net.train_features()\n",
        "    X_test, y_test = first_net.test_features()\n",
        "\n",
        "    # Save X_train and X_test\n",
        "    if save_features:\n",
        "        np.save(path_features + 'X_train', X_train)\n",
        "        np.save(path_features + 'y_train', y_train)\n",
        "        np.save(path_features + 'X_test', X_test)\n",
        "        np.save(path_features + 'y_test', y_test)\n",
        "\n",
        "    # ------------------------------- Classify -------------------------------#\n",
        "    classifier_params = {'C': 1.0, 'gamma': 'auto'}\n",
        "    train_mean = np.mean(X_train, axis=0)\n",
        "    train_std = np.std(X_train, axis=0)\n",
        "    X_train -= train_mean\n",
        "    X_test -= train_mean\n",
        "    X_train /= (train_std + 1e-5)\n",
        "    X_test /= (train_std + 1e-5)\n",
        "    svm = Classifier(X_train, y_train, X_test, y_test, classifier_params, classifier_type='SVM')\n",
        "    train_score, test_score = svm.run_classiffier()\n",
        "    print('Train Score: ' + str(train_score))\n",
        "    print('Test Score: ' + str(test_score))\n",
        "\n",
        "    print('DONE')\n",
        "\n",
        "\n",
        "if __name__ == '__main__':\n",
        "    start = time.time()\n",
        "    main()\n",
        "    end = time.time()\n",
        "    print(end-start)\n"
      ],
      "execution_count": 2,
      "outputs": [
        {
          "output_type": "error",
          "ename": "ModuleNotFoundError",
          "evalue": "ignored",
          "traceback": [
            "\u001b[0;31m---------------------------------------------------------------------------\u001b[0m",
            "\u001b[0;31mModuleNotFoundError\u001b[0m                       Traceback (most recent call last)",
            "\u001b[0;32m<ipython-input-2-f9b0e48d72a7>\u001b[0m in \u001b[0;36m<module>\u001b[0;34m()\u001b[0m\n\u001b[1;32m      7\u001b[0m \"\"\"\n\u001b[1;32m      8\u001b[0m \u001b[0;34m\u001b[0m\u001b[0m\n\u001b[0;32m----> 9\u001b[0;31m \u001b[0;32mfrom\u001b[0m \u001b[0mSDNN_cuda\u001b[0m \u001b[0;32mimport\u001b[0m \u001b[0mSDNN\u001b[0m\u001b[0;34m\u001b[0m\u001b[0;34m\u001b[0m\u001b[0m\n\u001b[0m\u001b[1;32m     10\u001b[0m \u001b[0;32mfrom\u001b[0m \u001b[0mClassifier\u001b[0m \u001b[0;32mimport\u001b[0m \u001b[0mClassifier\u001b[0m\u001b[0;34m\u001b[0m\u001b[0;34m\u001b[0m\u001b[0m\n\u001b[1;32m     11\u001b[0m \u001b[0;32mimport\u001b[0m \u001b[0mnumpy\u001b[0m \u001b[0;32mas\u001b[0m \u001b[0mnp\u001b[0m\u001b[0;34m\u001b[0m\u001b[0;34m\u001b[0m\u001b[0m\n",
            "\u001b[0;31mModuleNotFoundError\u001b[0m: No module named 'SDNN_cuda'",
            "",
            "\u001b[0;31m---------------------------------------------------------------------------\u001b[0;32m\nNOTE: If your import is failing due to a missing package, you can\nmanually install dependencies using either !pip or !apt.\n\nTo view examples of installing some common dependencies, click the\n\"Open Examples\" button below.\n\u001b[0;31m---------------------------------------------------------------------------\u001b[0m\n"
          ]
        }
      ]
    },
    {
      "cell_type": "code",
      "metadata": {
        "id": "N8cy6xlPgMrQ"
      },
      "source": [
        ""
      ],
      "execution_count": null,
      "outputs": []
    }
  ]
}